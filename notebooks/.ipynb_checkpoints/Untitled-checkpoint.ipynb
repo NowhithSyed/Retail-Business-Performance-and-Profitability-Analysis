{
 "cells": [
  {
   "cell_type": "code",
   "execution_count": null,
   "id": "a3f3fe02-ad53-49da-81f5-e06cc7ce8fe4",
   "metadata": {},
   "outputs": [],
   "source": []
  }
 ],
 "metadata": {
  "kernelspec": {
   "display_name": "Python 3 (ipykernel)",
   "language": "python",
   "name": "python3"
  },
  "language_info": {
   "name": ""
  }
 },
 "nbformat": 4,
 "nbformat_minor": 5
}
